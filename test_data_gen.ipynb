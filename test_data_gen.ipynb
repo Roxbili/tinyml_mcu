{
 "cells": [
  {
   "cell_type": "markdown",
   "metadata": {},
   "source": [
    "# 数据生成\n",
    "\n",
    "该文本用于生成NN的一些测试数据，主要是python能够更方便生成重复数据"
   ]
  },
  {
   "cell_type": "code",
   "execution_count": 2,
   "metadata": {},
   "outputs": [],
   "source": [
    "import numpy as np"
   ]
  },
  {
   "cell_type": "markdown",
   "metadata": {},
   "source": [
    "## pooling"
   ]
  },
  {
   "cell_type": "code",
   "execution_count": 2,
   "metadata": {},
   "outputs": [
    {
     "data": {
      "text/plain": [
       "array([[-1,  0,  1,  2,  2,  3,  5,  4,  7,  0,  0,  0, -1, -2,  0,  9],\n",
       "       [-1,  0,  1,  2,  2,  3,  5,  4,  7,  0,  0,  0, -1, -2,  0,  9]])"
      ]
     },
     "execution_count": 2,
     "metadata": {},
     "output_type": "execute_result"
    }
   ],
   "source": [
    "in_vec = [-1, 0, 1, 2, 2, 3, 5, 4, 7, 0, 0, 0, -1, -2, 0, 9]\n",
    "in_vec = np.tile(in_vec, (2,1))\n",
    "in_vec"
   ]
  },
  {
   "cell_type": "code",
   "execution_count": 3,
   "metadata": {},
   "outputs": [
    {
     "data": {
      "text/plain": [
       "array([-1, -1,  0,  0,  1,  1,  2,  2,  2,  2,  3,  3,  5,  5,  4,  4,  7,\n",
       "        7,  0,  0,  0,  0,  0,  0, -1, -1, -2, -2,  0,  0,  9,  9])"
      ]
     },
     "execution_count": 3,
     "metadata": {},
     "output_type": "execute_result"
    }
   ],
   "source": [
    "in_vec = [-1, 0, 1, 2, 2, 3, 5, 4, 7, 0, 0, 0, -1, -2, 0, 9]\n",
    "in_vec = np.repeat(in_vec, 2)\n",
    "in_vec"
   ]
  },
  {
   "cell_type": "markdown",
   "metadata": {},
   "source": [
    "## Conv"
   ]
  },
  {
   "cell_type": "markdown",
   "metadata": {},
   "source": [
    "### 例1"
   ]
  },
  {
   "cell_type": "code",
   "execution_count": 22,
   "metadata": {},
   "outputs": [
    {
     "name": "stdout",
     "output_type": "stream",
     "text": [
      "[1 1 1 1 1 1 1 1 1 1 1 1 1 1 1 1]\n",
      "[2 2 2 2 2 2 2 2 2 2 2 2 2 2 2 2]\n"
     ]
    },
    {
     "data": {
      "text/plain": [
       "array([1, 2, 1, 2, 1, 2, 1, 2, 1, 2, 1, 2, 1, 2, 1, 2, 1, 2, 1, 2, 1, 2,\n",
       "       1, 2, 1, 2, 1, 2, 1, 2, 1, 2], dtype=int32)"
      ]
     },
     "execution_count": 22,
     "metadata": {},
     "output_type": "execute_result"
    }
   ],
   "source": [
    "in_vec_channel_1 = np.ones((16,), dtype=np.int32)\n",
    "in_vec_channel_2 = in_vec_channel_1 * 2\n",
    "\n",
    "print(in_vec_channel_1)\n",
    "print(in_vec_channel_2)\n",
    "\n",
    "# in_vec = np.array([in_vec_channel_1, in_vec_channel_2]).reshape(-1)\n",
    "in_vec = np.array([in_vec_channel_1, in_vec_channel_2]).T.reshape(-1)\n",
    "in_vec"
   ]
  },
  {
   "cell_type": "code",
   "execution_count": 23,
   "metadata": {},
   "outputs": [
    {
     "name": "stdout",
     "output_type": "stream",
     "text": [
      "(2, 3, 3)\n",
      "(2, 3, 3)\n",
      "(2, 3, 3, 2)\n"
     ]
    },
    {
     "data": {
      "text/plain": [
       "array([2, 3, 2, 3, 2, 3, 2, 3, 2, 3, 2, 3, 2, 3, 2, 3, 2, 3, 3, 1, 3, 1,\n",
       "       3, 1, 3, 1, 3, 1, 3, 1, 3, 1, 3, 1, 3, 1], dtype=int32)"
      ]
     },
     "execution_count": 23,
     "metadata": {},
     "output_type": "execute_result"
    }
   ],
   "source": [
    "weight_kernel_1_channel_1 = np.ones((3, 3), dtype=np.int32) * 2\n",
    "weight_kernel_1_channel_2 = np.ones((3, 3), dtype=np.int32) * 3\n",
    "weight_kernel_1 = np.array([weight_kernel_1_channel_1, weight_kernel_1_channel_2])\n",
    "print(weight_kernel_1.shape)\n",
    "\n",
    "weight_kernel_2_channel_1 = np.ones((3, 3), dtype=np.int32) * 3\n",
    "weight_kernel_2_channel_2 = np.ones((3, 3), dtype=np.int32) * 1\n",
    "weight_kernel_2 = np.array([weight_kernel_2_channel_1, weight_kernel_2_channel_2])\n",
    "print(weight_kernel_2.shape)\n",
    "\n",
    "weight = np.array([weight_kernel_1, weight_kernel_2]).transpose(1,2,3,0)\n",
    "print(weight.shape)\n",
    "weight = weight.reshape(-1)\n",
    "\n",
    "# 生成所有权重相同的测试用\n",
    "# weight = np.ones((36,), dtype=np.int)\n",
    "weight"
   ]
  },
  {
   "cell_type": "markdown",
   "metadata": {},
   "source": [
    "### 例2"
   ]
  },
  {
   "cell_type": "code",
   "execution_count": 50,
   "metadata": {},
   "outputs": [
    {
     "name": "stdout",
     "output_type": "stream",
     "text": [
      "[1 2 3 4 5 6 7 8 9 1 2 3 4 5 6 7]\n",
      "[1 1 1 1 1 1 1 1 1 1 1 1 1 1 1 1]\n"
     ]
    },
    {
     "data": {
      "text/plain": [
       "array([1, 1, 2, 1, 3, 1, 4, 1, 5, 1, 6, 1, 7, 1, 8, 1, 9, 1, 1, 1, 2, 1,\n",
       "       3, 1, 4, 1, 5, 1, 6, 1, 7, 1], dtype=int32)"
      ]
     },
     "execution_count": 50,
     "metadata": {},
     "output_type": "execute_result"
    }
   ],
   "source": [
    "in_vec_channel_1 = np.concatenate((np.arange(1, 10, dtype=np.int32), np.arange(1, 8, dtype=np.int32)))\n",
    "in_vec_channel_2 = np.ones((16,), dtype=np.int32)\n",
    "\n",
    "print(in_vec_channel_1)\n",
    "print(in_vec_channel_2)\n",
    "\n",
    "# in_vec = np.array([in_vec_channel_1, in_vec_channel_2]).reshape(-1)\n",
    "in_vec = np.array([in_vec_channel_1, in_vec_channel_2]).T.reshape(-1)\n",
    "in_vec"
   ]
  },
  {
   "cell_type": "code",
   "execution_count": 62,
   "metadata": {},
   "outputs": [
    {
     "name": "stdout",
     "output_type": "stream",
     "text": [
      "(3, 3, 2)\n",
      "(3, 3, 2)\n",
      "(2, 3, 3, 2)\n"
     ]
    },
    {
     "data": {
      "text/plain": [
       "array([ 2, -1,  2, -2,  2, -3,  2, -4,  2, -5,  2, -6,  2, -7,  2, -8,  2,\n",
       "       -9,  1,  1,  2,  1,  3,  1,  1,  1,  2,  1,  3,  1,  1,  1,  2,  1,\n",
       "        3,  1], dtype=int32)"
      ]
     },
     "execution_count": 62,
     "metadata": {},
     "output_type": "execute_result"
    }
   ],
   "source": [
    "weight_kernel_1_channel_1 = np.ones((3, 3), dtype=np.int32) * 2\n",
    "weight_kernel_1_channel_2 = np.arange(1, 10, dtype=np.int32).reshape(3, 3) * -1\n",
    "weight_kernel_1 = np.array([weight_kernel_1_channel_1, weight_kernel_1_channel_2])\n",
    "weight_kernel_1 = weight_kernel_1.transpose(1,2,0)\n",
    "print(weight_kernel_1.shape)\n",
    "\n",
    "weight_kernel_2_channel_1 = np.array([1,2,3,1,2,3,1,2,3], dtype=np.int32).reshape(3, 3)\n",
    "weight_kernel_2_channel_2 = np.ones((3, 3), dtype=np.int32)\n",
    "weight_kernel_2 = np.array([weight_kernel_2_channel_1, weight_kernel_2_channel_2])\n",
    "weight_kernel_2 = weight_kernel_2.transpose(1,2,0)\n",
    "print(weight_kernel_2.shape)\n",
    "\n",
    "weight = np.array([weight_kernel_1, weight_kernel_2])\n",
    "print(weight.shape)\n",
    "weight = weight.reshape(-1)\n",
    "\n",
    "# 生成所有权重相同的测试用\n",
    "# weight = np.ones((36,), dtype=np.int)\n",
    "weight"
   ]
  },
  {
   "cell_type": "markdown",
   "metadata": {},
   "source": [
    "## Dense"
   ]
  },
  {
   "cell_type": "code",
   "execution_count": 3,
   "metadata": {},
   "outputs": [
    {
     "name": "stdout",
     "output_type": "stream",
     "text": [
      "correct answer\n",
      "[[8 6]\n",
      " [5 4]\n",
      " [3 2]]\n"
     ]
    }
   ],
   "source": [
    "in_vec = np.array([[-1, -2, 1, 2, 3], [-1, -2, 0, 2, 3]]).T\n",
    "weight = np.array([[2, 1, 2, 2, 2], [2, 2, 1, 2, 2], [2, 2, 1, 1, 2]], dtype=np.int32)\n",
    "\n",
    "print('correct answer')\n",
    "print(np.matmul(weight, in_vec))"
   ]
  },
  {
   "cell_type": "code",
   "execution_count": 74,
   "metadata": {},
   "outputs": [
    {
     "data": {
      "text/plain": [
       "array([[-1, -2,  1,  2,  3]])"
      ]
     },
     "execution_count": 74,
     "metadata": {},
     "output_type": "execute_result"
    }
   ],
   "source": [
    "in_vec.T"
   ]
  },
  {
   "cell_type": "code",
   "execution_count": 4,
   "metadata": {},
   "outputs": [
    {
     "data": {
      "text/plain": [
       "array([2, 2, 2, 1, 2, 2, 2, 1, 1, 2, 2, 1, 2, 2, 2], dtype=int32)"
      ]
     },
     "execution_count": 4,
     "metadata": {},
     "output_type": "execute_result"
    }
   ],
   "source": [
    "weight.T.reshape(-1)"
   ]
  },
  {
   "cell_type": "markdown",
   "metadata": {},
   "source": [
    "# 正确的参考结果生成"
   ]
  },
  {
   "cell_type": "code",
   "execution_count": 1,
   "metadata": {},
   "outputs": [],
   "source": [
    "import torch"
   ]
  },
  {
   "cell_type": "markdown",
   "metadata": {},
   "source": [
    "## Conv"
   ]
  },
  {
   "cell_type": "markdown",
   "metadata": {},
   "source": [
    "### 例2"
   ]
  },
  {
   "cell_type": "code",
   "execution_count": 59,
   "metadata": {},
   "outputs": [
    {
     "name": "stdout",
     "output_type": "stream",
     "text": [
      "(1, 2, 4, 4)\n"
     ]
    },
    {
     "data": {
      "text/plain": [
       "array([[[[1, 2, 3, 4],\n",
       "         [5, 6, 7, 8],\n",
       "         [9, 1, 2, 3],\n",
       "         [4, 5, 6, 7]],\n",
       "\n",
       "        [[1, 1, 1, 1],\n",
       "         [1, 1, 1, 1],\n",
       "         [1, 1, 1, 1],\n",
       "         [1, 1, 1, 1]]]], dtype=int32)"
      ]
     },
     "execution_count": 59,
     "metadata": {},
     "output_type": "execute_result"
    }
   ],
   "source": [
    "# 构建输入\n",
    "in_vec_channel_1 = np.concatenate((np.arange(1, 10, dtype=np.int32), np.arange(1, 8, dtype=np.int32))).reshape(4,4)\n",
    "in_vec_channel_2 = np.ones((16,), dtype=np.int32).reshape(4,4)\n",
    "\n",
    "in_vec = np.array([in_vec_channel_1, in_vec_channel_2])\n",
    "in_vec = in_vec[np.newaxis, :]\n",
    "print(in_vec.shape)\n",
    "in_vec"
   ]
  },
  {
   "cell_type": "code",
   "execution_count": 60,
   "metadata": {},
   "outputs": [
    {
     "name": "stdout",
     "output_type": "stream",
     "text": [
      "(2, 3, 3)\n",
      "(2, 3, 3)\n",
      "(2, 2, 3, 3)\n"
     ]
    },
    {
     "data": {
      "text/plain": [
       "array([[[[ 2,  2,  2],\n",
       "         [ 2,  2,  2],\n",
       "         [ 2,  2,  2]],\n",
       "\n",
       "        [[-1, -2, -3],\n",
       "         [-4, -5, -6],\n",
       "         [-7, -8, -9]]],\n",
       "\n",
       "\n",
       "       [[[ 1,  2,  3],\n",
       "         [ 1,  2,  3],\n",
       "         [ 1,  2,  3]],\n",
       "\n",
       "        [[ 1,  1,  1],\n",
       "         [ 1,  1,  1],\n",
       "         [ 1,  1,  1]]]], dtype=int32)"
      ]
     },
     "execution_count": 60,
     "metadata": {},
     "output_type": "execute_result"
    }
   ],
   "source": [
    "# 构建权重\n",
    "weight_kernel_1_channel_1 = np.ones((3, 3), dtype=np.int32) * 2\n",
    "weight_kernel_1_channel_2 = np.arange(1, 10, dtype=np.int32).reshape(3, 3) * -1\n",
    "weight_kernel_1 = np.array([weight_kernel_1_channel_1, weight_kernel_1_channel_2])\n",
    "print(weight_kernel_1.shape)\n",
    "\n",
    "weight_kernel_2_channel_1 = np.array([1,2,3,1,2,3,1,2,3], dtype=np.int32).reshape(3, 3)\n",
    "weight_kernel_2_channel_2 = np.ones((3, 3), dtype=np.int32)\n",
    "weight_kernel_2 = np.array([weight_kernel_2_channel_1, weight_kernel_2_channel_2])\n",
    "print(weight_kernel_2.shape)\n",
    "\n",
    "weight = np.array([weight_kernel_1, weight_kernel_2])\n",
    "print(weight.shape)\n",
    "\n",
    "# 生成所有权重相同的测试用\n",
    "# weight = np.ones((36,), dtype=np.int)\n",
    "weight"
   ]
  },
  {
   "cell_type": "code",
   "execution_count": 61,
   "metadata": {},
   "outputs": [
    {
     "data": {
      "text/plain": [
       "tensor([[[[ 27.,  27.],\n",
       "          [ 45.,  45.]],\n",
       "\n",
       "         [[ 78.,  87.],\n",
       "          [ 96., 105.]]]])"
      ]
     },
     "execution_count": 61,
     "metadata": {},
     "output_type": "execute_result"
    }
   ],
   "source": [
    "in_vec = torch.Tensor(in_vec)\n",
    "weight = torch.Tensor(weight)\n",
    "output = torch.conv2d(in_vec, weight)\n",
    "\n",
    "output"
   ]
  },
  {
   "cell_type": "markdown",
   "metadata": {},
   "source": [
    "# 寻找量化参数"
   ]
  },
  {
   "cell_type": "code",
   "execution_count": 17,
   "metadata": {},
   "outputs": [
    {
     "name": "stdout",
     "output_type": "stream",
     "text": [
      "0.0016950105554353221\n",
      "1863683814 -9\n"
     ]
    }
   ],
   "source": [
    "scale_input = 0.04273353889584541\n",
    "scale_filter = 0.007862006314098835\n",
    "scale_output = 0.19821195304393768\n",
    "scale = scale_input * scale_filter / scale_output\n",
    "print(scale)\n",
    "\n",
    "multipler = 0\n",
    "shift = 0\n",
    "for i in range(31):\n",
    "    temp = scale * 2**(i + 31)\n",
    "    if temp < 2**31 - 1:\n",
    "        multipler = int(temp)\n",
    "        shift = i\n",
    "    else:\n",
    "        break\n",
    "\n",
    "print(multipler, -shift)"
   ]
  },
  {
   "cell_type": "markdown",
   "metadata": {},
   "source": [
    "# C数组生成"
   ]
  },
  {
   "cell_type": "code",
   "execution_count": 2,
   "metadata": {},
   "outputs": [],
   "source": [
    "import numpy as np"
   ]
  },
  {
   "cell_type": "markdown",
   "metadata": {},
   "source": [
    "## 读取npy权重和偏移并生成"
   ]
  },
  {
   "cell_type": "code",
   "execution_count": 46,
   "metadata": {},
   "outputs": [],
   "source": [
    "def gen_content(pre_info, data: np.ndarray):\n",
    "    content = pre_info + '[] = {'\n",
    "    data = data.reshape(-1)\n",
    "    for item in data:\n",
    "        content += str(item) + ', '\n",
    "\n",
    "    content += '};\\n\\n'\n",
    "    return content"
   ]
  },
  {
   "cell_type": "code",
   "execution_count": 26,
   "metadata": {},
   "outputs": [],
   "source": [
    "save_path = './5_cmsis_mlp/model/weights.h'\n",
    "\n",
    "config = [\n",
    "    (\n",
    "        'const q7_t filter_data_dense_1',\n",
    "        './5_cmsis_mlp/model/mlp_1_sequential_1_dense_2_MatMul.npy'\n",
    "    ),\n",
    "    (\n",
    "        'const q7_t filter_data_dense_2',\n",
    "        './5_cmsis_mlp/model/mlp_1_sequential_1_dense_3_MatMul.npy'\n",
    "    ),\n",
    "    (\n",
    "        'const int32_t bias_data_dense_1',\n",
    "        './5_cmsis_mlp/model/dense_2_bias.npy'\n",
    "    ),\n",
    "    (\n",
    "        'const int32_t bias_data_dense_2',\n",
    "        './5_cmsis_mlp/model/dense_3_bias.npy'\n",
    "    )\n",
    "]\n",
    "\n",
    "with open(save_path, 'w+') as f:\n",
    "    content = '#include \"arm_nnfunctions.h\"\\n\\n'\n",
    "    for pre_info, data_path in config:\n",
    "        content += gen_content(pre_info, np.load(data_path))\n",
    "    f.write(content)"
   ]
  },
  {
   "cell_type": "markdown",
   "metadata": {},
   "source": [
    "## 输入c数组生成"
   ]
  },
  {
   "cell_type": "code",
   "execution_count": 1,
   "metadata": {},
   "outputs": [],
   "source": [
    "# mlp模型参数\n",
    "input_scale = 0.003921568859368563\n",
    "input_zero_point = -128"
   ]
  },
  {
   "cell_type": "code",
   "execution_count": 3,
   "metadata": {},
   "outputs": [],
   "source": [
    "def load_mnist(path):\n",
    "    '''加载mnist数据\n",
    "        输入:\n",
    "            path: mnist.npz的路径\n",
    "    '''\n",
    "\n",
    "    with np.load(path, allow_pickle=True) as f:\n",
    "        x_train, y_train = f['x_train'], f['y_train']\n",
    "        x_test, y_test = f['x_test'], f['y_test']\n",
    "\n",
    "        return (x_train, y_train), (x_test, y_test)\n"
   ]
  },
  {
   "cell_type": "code",
   "execution_count": 4,
   "metadata": {},
   "outputs": [],
   "source": [
    "(x_train, y_train), (x_test, y_test) = load_mnist('data/mnist/mnist.npz')\n",
    "x_test = x_test / 255.\n",
    "# 对输入数据进行量化处理\n",
    "x_test = x_test / input_scale + input_zero_point\n",
    "\n",
    "x_test = x_test.round().astype(np.int8)"
   ]
  },
  {
   "cell_type": "code",
   "execution_count": 8,
   "metadata": {},
   "outputs": [],
   "source": [
    "def gen_content(pre_info, data: np.ndarray):\n",
    "    content = pre_info + '{'\n",
    "    data = data.reshape(-1)\n",
    "    for item in data:\n",
    "        content += str(item) + ', '\n",
    "\n",
    "    content += '}\\n\\n'\n",
    "    return content"
   ]
  },
  {
   "cell_type": "code",
   "execution_count": 9,
   "metadata": {},
   "outputs": [
    {
     "name": "stdout",
     "output_type": "stream",
     "text": [
      "7\n"
     ]
    }
   ],
   "source": [
    "save_path = './5_cmsis_mlp/model/inputs.h'\n",
    "\n",
    "with open(save_path, 'w+') as f:\n",
    "    content = gen_content('#define INPUT_DATA ', x_test[0])\n",
    "    f.write(content)\n",
    "\n",
    "print(y_test[0])"
   ]
  },
  {
   "cell_type": "markdown",
   "metadata": {},
   "source": [
    "# 数据对比"
   ]
  },
  {
   "cell_type": "markdown",
   "metadata": {},
   "source": [
    "1. 使用tiny_network生成真实输出\n",
    "2. 在串口中设置保存到log，捕获stm32的输出"
   ]
  },
  {
   "cell_type": "markdown",
   "metadata": {},
   "source": [
    "## 加载txt文件并对比结果(单层)"
   ]
  },
  {
   "cell_type": "code",
   "execution_count": 19,
   "metadata": {},
   "outputs": [
    {
     "name": "stdout",
     "output_type": "stream",
     "text": [
      "[-13 -18  19  31 -44 -13 -44  77   7  12]\n",
      "[-12 -18  18  31 -43 -12 -42  76   8  11]\n"
     ]
    }
   ],
   "source": [
    "import numpy as np\n",
    "\n",
    "input_data = np.loadtxt('./5_cmsis_mlp/model/cmp/output_dense_1.txt', dtype=np.int64)\n",
    "input_data_stm32 = np.loadtxt('./5_cmsis_mlp/model/cmp/output_dense_1_stm32.txt', dtype=np.int64)\n",
    "\n",
    "weight = np.load('./5_cmsis_mlp/model/mlp_1_sequential_1_dense_3_MatMul.npy')\n",
    "bias = np.load('./5_cmsis_mlp/model/dense_3_bias.npy')\n",
    "weight = weight.astype(np.int64)\n",
    "bias = bias.astype(np.int64)\n",
    "\n",
    "input_zero_point = 128\n",
    "multipler = 1863683814\n",
    "shift = -9\n",
    "output_zero_point = 21\n",
    "\n",
    "correct = np.matmul(input_data + input_zero_point, weight.T) + bias\n",
    "correct = correct * multipler / 2**(31 + (-shift))\n",
    "correct += output_zero_point\n",
    "correct = np.clip(correct, -128, 127).astype(np.int32)\n",
    "print(correct)\n",
    "\n",
    "stm32_val = np.matmul(input_data_stm32 + input_zero_point, weight.T) + bias\n",
    "stm32_val = stm32_val * multipler / 2**(31 + (-shift))\n",
    "stm32_val += output_zero_point\n",
    "stm32_val = np.clip(stm32_val, -128, 127).astype(np.int32)\n",
    "print(stm32_val)"
   ]
  }
 ],
 "metadata": {
  "interpreter": {
   "hash": "6f64be793538f7fe230f350828c9baf03d97c4df0981f52e8388f53f367f4a42"
  },
  "kernelspec": {
   "display_name": "Python 3.9.5 64-bit ('torch': conda)",
   "name": "python3"
  },
  "language_info": {
   "codemirror_mode": {
    "name": "ipython",
    "version": 3
   },
   "file_extension": ".py",
   "mimetype": "text/x-python",
   "name": "python",
   "nbconvert_exporter": "python",
   "pygments_lexer": "ipython3",
   "version": "3.9.5"
  },
  "orig_nbformat": 4
 },
 "nbformat": 4,
 "nbformat_minor": 2
}
