{
 "cells": [
  {
   "cell_type": "markdown",
   "metadata": {},
   "source": [
    "# 数据生成\n",
    "\n",
    "该文本用于生成NN的一些测试数据，主要是python能够更方便生成重复数据"
   ]
  },
  {
   "cell_type": "code",
   "execution_count": 6,
   "metadata": {},
   "outputs": [],
   "source": [
    "import numpy as np"
   ]
  },
  {
   "cell_type": "markdown",
   "metadata": {},
   "source": [
    "## pooling"
   ]
  },
  {
   "cell_type": "code",
   "execution_count": 2,
   "metadata": {},
   "outputs": [
    {
     "data": {
      "text/plain": [
       "array([[-1,  0,  1,  2,  2,  3,  5,  4,  7,  0,  0,  0, -1, -2,  0,  9],\n",
       "       [-1,  0,  1,  2,  2,  3,  5,  4,  7,  0,  0,  0, -1, -2,  0,  9]])"
      ]
     },
     "execution_count": 2,
     "metadata": {},
     "output_type": "execute_result"
    }
   ],
   "source": [
    "in_vec = [-1, 0, 1, 2, 2, 3, 5, 4, 7, 0, 0, 0, -1, -2, 0, 9]\n",
    "in_vec = np.tile(in_vec, (2,1))\n",
    "in_vec"
   ]
  },
  {
   "cell_type": "code",
   "execution_count": 3,
   "metadata": {},
   "outputs": [
    {
     "data": {
      "text/plain": [
       "array([-1, -1,  0,  0,  1,  1,  2,  2,  2,  2,  3,  3,  5,  5,  4,  4,  7,\n",
       "        7,  0,  0,  0,  0,  0,  0, -1, -1, -2, -2,  0,  0,  9,  9])"
      ]
     },
     "execution_count": 3,
     "metadata": {},
     "output_type": "execute_result"
    }
   ],
   "source": [
    "in_vec = [-1, 0, 1, 2, 2, 3, 5, 4, 7, 0, 0, 0, -1, -2, 0, 9]\n",
    "in_vec = np.repeat(in_vec, 2)\n",
    "in_vec"
   ]
  },
  {
   "cell_type": "markdown",
   "metadata": {},
   "source": [
    "## Conv"
   ]
  },
  {
   "cell_type": "markdown",
   "metadata": {},
   "source": [
    "### 例1"
   ]
  },
  {
   "cell_type": "code",
   "execution_count": 22,
   "metadata": {},
   "outputs": [
    {
     "name": "stdout",
     "output_type": "stream",
     "text": [
      "[1 1 1 1 1 1 1 1 1 1 1 1 1 1 1 1]\n",
      "[2 2 2 2 2 2 2 2 2 2 2 2 2 2 2 2]\n"
     ]
    },
    {
     "data": {
      "text/plain": [
       "array([1, 2, 1, 2, 1, 2, 1, 2, 1, 2, 1, 2, 1, 2, 1, 2, 1, 2, 1, 2, 1, 2,\n",
       "       1, 2, 1, 2, 1, 2, 1, 2, 1, 2], dtype=int32)"
      ]
     },
     "execution_count": 22,
     "metadata": {},
     "output_type": "execute_result"
    }
   ],
   "source": [
    "in_vec_channel_1 = np.ones((16,), dtype=np.int32)\n",
    "in_vec_channel_2 = in_vec_channel_1 * 2\n",
    "\n",
    "print(in_vec_channel_1)\n",
    "print(in_vec_channel_2)\n",
    "\n",
    "# in_vec = np.array([in_vec_channel_1, in_vec_channel_2]).reshape(-1)\n",
    "in_vec = np.array([in_vec_channel_1, in_vec_channel_2]).T.reshape(-1)\n",
    "in_vec"
   ]
  },
  {
   "cell_type": "code",
   "execution_count": 23,
   "metadata": {},
   "outputs": [
    {
     "name": "stdout",
     "output_type": "stream",
     "text": [
      "(2, 3, 3)\n",
      "(2, 3, 3)\n",
      "(2, 3, 3, 2)\n"
     ]
    },
    {
     "data": {
      "text/plain": [
       "array([2, 3, 2, 3, 2, 3, 2, 3, 2, 3, 2, 3, 2, 3, 2, 3, 2, 3, 3, 1, 3, 1,\n",
       "       3, 1, 3, 1, 3, 1, 3, 1, 3, 1, 3, 1, 3, 1], dtype=int32)"
      ]
     },
     "execution_count": 23,
     "metadata": {},
     "output_type": "execute_result"
    }
   ],
   "source": [
    "weight_kernel_1_channel_1 = np.ones((3, 3), dtype=np.int32) * 2\n",
    "weight_kernel_1_channel_2 = np.ones((3, 3), dtype=np.int32) * 3\n",
    "weight_kernel_1 = np.array([weight_kernel_1_channel_1, weight_kernel_1_channel_2])\n",
    "print(weight_kernel_1.shape)\n",
    "\n",
    "weight_kernel_2_channel_1 = np.ones((3, 3), dtype=np.int32) * 3\n",
    "weight_kernel_2_channel_2 = np.ones((3, 3), dtype=np.int32) * 1\n",
    "weight_kernel_2 = np.array([weight_kernel_2_channel_1, weight_kernel_2_channel_2])\n",
    "print(weight_kernel_2.shape)\n",
    "\n",
    "weight = np.array([weight_kernel_1, weight_kernel_2]).transpose(1,2,3,0)\n",
    "print(weight.shape)\n",
    "weight = weight.reshape(-1)\n",
    "\n",
    "# 生成所有权重相同的测试用\n",
    "# weight = np.ones((36,), dtype=np.int)\n",
    "weight"
   ]
  },
  {
   "cell_type": "markdown",
   "metadata": {},
   "source": [
    "### 例2"
   ]
  },
  {
   "cell_type": "code",
   "execution_count": 50,
   "metadata": {},
   "outputs": [
    {
     "name": "stdout",
     "output_type": "stream",
     "text": [
      "[1 2 3 4 5 6 7 8 9 1 2 3 4 5 6 7]\n",
      "[1 1 1 1 1 1 1 1 1 1 1 1 1 1 1 1]\n"
     ]
    },
    {
     "data": {
      "text/plain": [
       "array([1, 1, 2, 1, 3, 1, 4, 1, 5, 1, 6, 1, 7, 1, 8, 1, 9, 1, 1, 1, 2, 1,\n",
       "       3, 1, 4, 1, 5, 1, 6, 1, 7, 1], dtype=int32)"
      ]
     },
     "execution_count": 50,
     "metadata": {},
     "output_type": "execute_result"
    }
   ],
   "source": [
    "in_vec_channel_1 = np.concatenate((np.arange(1, 10, dtype=np.int32), np.arange(1, 8, dtype=np.int32)))\n",
    "in_vec_channel_2 = np.ones((16,), dtype=np.int32)\n",
    "\n",
    "print(in_vec_channel_1)\n",
    "print(in_vec_channel_2)\n",
    "\n",
    "# in_vec = np.array([in_vec_channel_1, in_vec_channel_2]).reshape(-1)\n",
    "in_vec = np.array([in_vec_channel_1, in_vec_channel_2]).T.reshape(-1)\n",
    "in_vec"
   ]
  },
  {
   "cell_type": "code",
   "execution_count": 62,
   "metadata": {},
   "outputs": [
    {
     "name": "stdout",
     "output_type": "stream",
     "text": [
      "(3, 3, 2)\n",
      "(3, 3, 2)\n",
      "(2, 3, 3, 2)\n"
     ]
    },
    {
     "data": {
      "text/plain": [
       "array([ 2, -1,  2, -2,  2, -3,  2, -4,  2, -5,  2, -6,  2, -7,  2, -8,  2,\n",
       "       -9,  1,  1,  2,  1,  3,  1,  1,  1,  2,  1,  3,  1,  1,  1,  2,  1,\n",
       "        3,  1], dtype=int32)"
      ]
     },
     "execution_count": 62,
     "metadata": {},
     "output_type": "execute_result"
    }
   ],
   "source": [
    "weight_kernel_1_channel_1 = np.ones((3, 3), dtype=np.int32) * 2\n",
    "weight_kernel_1_channel_2 = np.arange(1, 10, dtype=np.int32).reshape(3, 3) * -1\n",
    "weight_kernel_1 = np.array([weight_kernel_1_channel_1, weight_kernel_1_channel_2])\n",
    "weight_kernel_1 = weight_kernel_1.transpose(1,2,0)\n",
    "print(weight_kernel_1.shape)\n",
    "\n",
    "weight_kernel_2_channel_1 = np.array([1,2,3,1,2,3,1,2,3], dtype=np.int32).reshape(3, 3)\n",
    "weight_kernel_2_channel_2 = np.ones((3, 3), dtype=np.int32)\n",
    "weight_kernel_2 = np.array([weight_kernel_2_channel_1, weight_kernel_2_channel_2])\n",
    "weight_kernel_2 = weight_kernel_2.transpose(1,2,0)\n",
    "print(weight_kernel_2.shape)\n",
    "\n",
    "weight = np.array([weight_kernel_1, weight_kernel_2])\n",
    "print(weight.shape)\n",
    "weight = weight.reshape(-1)\n",
    "\n",
    "# 生成所有权重相同的测试用\n",
    "# weight = np.ones((36,), dtype=np.int)\n",
    "weight"
   ]
  },
  {
   "cell_type": "markdown",
   "metadata": {},
   "source": [
    "## Dense"
   ]
  },
  {
   "cell_type": "code",
   "execution_count": 73,
   "metadata": {},
   "outputs": [
    {
     "name": "stdout",
     "output_type": "stream",
     "text": [
      "correct answer\n",
      "[[8]\n",
      " [5]\n",
      " [3]]\n"
     ]
    }
   ],
   "source": [
    "in_vec = np.array([[-1, -2, 1, 2, 3]]).T\n",
    "weight = np.array([[2, 1, 2, 2, 2], [2, 2, 1, 2, 2], [2, 2, 1, 1, 2]], dtype=np.int32)\n",
    "\n",
    "print('correct answer')\n",
    "print(np.matmul(weight, in_vec))"
   ]
  },
  {
   "cell_type": "code",
   "execution_count": 74,
   "metadata": {},
   "outputs": [
    {
     "data": {
      "text/plain": [
       "array([[-1, -2,  1,  2,  3]])"
      ]
     },
     "execution_count": 74,
     "metadata": {},
     "output_type": "execute_result"
    }
   ],
   "source": [
    "in_vec.T"
   ]
  },
  {
   "cell_type": "code",
   "execution_count": 72,
   "metadata": {},
   "outputs": [
    {
     "data": {
      "text/plain": [
       "array([2, 1, 2, 2, 2, 2, 2, 1, 2, 2, 2, 2, 1, 1, 2], dtype=int32)"
      ]
     },
     "execution_count": 72,
     "metadata": {},
     "output_type": "execute_result"
    }
   ],
   "source": [
    "weight.reshape(-1)"
   ]
  },
  {
   "cell_type": "markdown",
   "metadata": {},
   "source": [
    "# 正确的参考结果生成"
   ]
  },
  {
   "cell_type": "code",
   "execution_count": 1,
   "metadata": {},
   "outputs": [],
   "source": [
    "import torch"
   ]
  },
  {
   "cell_type": "markdown",
   "metadata": {},
   "source": [
    "## Conv"
   ]
  },
  {
   "cell_type": "markdown",
   "metadata": {},
   "source": [
    "### 例2"
   ]
  },
  {
   "cell_type": "code",
   "execution_count": 59,
   "metadata": {},
   "outputs": [
    {
     "name": "stdout",
     "output_type": "stream",
     "text": [
      "(1, 2, 4, 4)\n"
     ]
    },
    {
     "data": {
      "text/plain": [
       "array([[[[1, 2, 3, 4],\n",
       "         [5, 6, 7, 8],\n",
       "         [9, 1, 2, 3],\n",
       "         [4, 5, 6, 7]],\n",
       "\n",
       "        [[1, 1, 1, 1],\n",
       "         [1, 1, 1, 1],\n",
       "         [1, 1, 1, 1],\n",
       "         [1, 1, 1, 1]]]], dtype=int32)"
      ]
     },
     "execution_count": 59,
     "metadata": {},
     "output_type": "execute_result"
    }
   ],
   "source": [
    "# 构建输入\n",
    "in_vec_channel_1 = np.concatenate((np.arange(1, 10, dtype=np.int32), np.arange(1, 8, dtype=np.int32))).reshape(4,4)\n",
    "in_vec_channel_2 = np.ones((16,), dtype=np.int32).reshape(4,4)\n",
    "\n",
    "in_vec = np.array([in_vec_channel_1, in_vec_channel_2])\n",
    "in_vec = in_vec[np.newaxis, :]\n",
    "print(in_vec.shape)\n",
    "in_vec"
   ]
  },
  {
   "cell_type": "code",
   "execution_count": 60,
   "metadata": {},
   "outputs": [
    {
     "name": "stdout",
     "output_type": "stream",
     "text": [
      "(2, 3, 3)\n",
      "(2, 3, 3)\n",
      "(2, 2, 3, 3)\n"
     ]
    },
    {
     "data": {
      "text/plain": [
       "array([[[[ 2,  2,  2],\n",
       "         [ 2,  2,  2],\n",
       "         [ 2,  2,  2]],\n",
       "\n",
       "        [[-1, -2, -3],\n",
       "         [-4, -5, -6],\n",
       "         [-7, -8, -9]]],\n",
       "\n",
       "\n",
       "       [[[ 1,  2,  3],\n",
       "         [ 1,  2,  3],\n",
       "         [ 1,  2,  3]],\n",
       "\n",
       "        [[ 1,  1,  1],\n",
       "         [ 1,  1,  1],\n",
       "         [ 1,  1,  1]]]], dtype=int32)"
      ]
     },
     "execution_count": 60,
     "metadata": {},
     "output_type": "execute_result"
    }
   ],
   "source": [
    "# 构建权重\n",
    "weight_kernel_1_channel_1 = np.ones((3, 3), dtype=np.int32) * 2\n",
    "weight_kernel_1_channel_2 = np.arange(1, 10, dtype=np.int32).reshape(3, 3) * -1\n",
    "weight_kernel_1 = np.array([weight_kernel_1_channel_1, weight_kernel_1_channel_2])\n",
    "print(weight_kernel_1.shape)\n",
    "\n",
    "weight_kernel_2_channel_1 = np.array([1,2,3,1,2,3,1,2,3], dtype=np.int32).reshape(3, 3)\n",
    "weight_kernel_2_channel_2 = np.ones((3, 3), dtype=np.int32)\n",
    "weight_kernel_2 = np.array([weight_kernel_2_channel_1, weight_kernel_2_channel_2])\n",
    "print(weight_kernel_2.shape)\n",
    "\n",
    "weight = np.array([weight_kernel_1, weight_kernel_2])\n",
    "print(weight.shape)\n",
    "\n",
    "# 生成所有权重相同的测试用\n",
    "# weight = np.ones((36,), dtype=np.int)\n",
    "weight"
   ]
  },
  {
   "cell_type": "code",
   "execution_count": 61,
   "metadata": {},
   "outputs": [
    {
     "data": {
      "text/plain": [
       "tensor([[[[ 27.,  27.],\n",
       "          [ 45.,  45.]],\n",
       "\n",
       "         [[ 78.,  87.],\n",
       "          [ 96., 105.]]]])"
      ]
     },
     "execution_count": 61,
     "metadata": {},
     "output_type": "execute_result"
    }
   ],
   "source": [
    "in_vec = torch.Tensor(in_vec)\n",
    "weight = torch.Tensor(weight)\n",
    "output = torch.conv2d(in_vec, weight)\n",
    "\n",
    "output"
   ]
  }
 ],
 "metadata": {
  "interpreter": {
   "hash": "6f64be793538f7fe230f350828c9baf03d97c4df0981f52e8388f53f367f4a42"
  },
  "kernelspec": {
   "display_name": "Python 3.9.5 64-bit ('torch': conda)",
   "name": "python3"
  },
  "language_info": {
   "codemirror_mode": {
    "name": "ipython",
    "version": 3
   },
   "file_extension": ".py",
   "mimetype": "text/x-python",
   "name": "python",
   "nbconvert_exporter": "python",
   "pygments_lexer": "ipython3",
   "version": "3.9.5"
  },
  "orig_nbformat": 4
 },
 "nbformat": 4,
 "nbformat_minor": 2
}
